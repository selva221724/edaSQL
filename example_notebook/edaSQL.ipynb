{
 "cells": [
  {
   "cell_type": "markdown",
   "id": "ad11b57b",
   "metadata": {},
   "source": [
    "## Import Packages"
   ]
  },
  {
   "cell_type": "code",
   "execution_count": 1,
   "id": "83529769",
   "metadata": {},
   "outputs": [
    {
     "ename": "ModuleNotFoundError",
     "evalue": "No module named 'insights'",
     "output_type": "error",
     "traceback": [
      "\u001b[1;31m---------------------------------------------------------------------------\u001b[0m",
      "\u001b[1;31mModuleNotFoundError\u001b[0m                       Traceback (most recent call last)",
      "\u001b[1;32m~\\AppData\\Local\\Temp/ipykernel_18544/764553229.py\u001b[0m in \u001b[0;36m<module>\u001b[1;34m\u001b[0m\n\u001b[1;32m----> 1\u001b[1;33m \u001b[1;32mimport\u001b[0m \u001b[0medaSQL\u001b[0m\u001b[1;33m\u001b[0m\u001b[1;33m\u001b[0m\u001b[0m\n\u001b[0m\u001b[0;32m      2\u001b[0m \u001b[1;32mimport\u001b[0m \u001b[0mpandas\u001b[0m \u001b[1;32mas\u001b[0m \u001b[0mpd\u001b[0m\u001b[1;33m\u001b[0m\u001b[1;33m\u001b[0m\u001b[0m\n\u001b[0;32m      3\u001b[0m \u001b[1;32mimport\u001b[0m \u001b[0mnumpy\u001b[0m \u001b[1;32mas\u001b[0m \u001b[0mnp\u001b[0m\u001b[1;33m\u001b[0m\u001b[1;33m\u001b[0m\u001b[0m\n\u001b[0;32m      4\u001b[0m \u001b[1;31m#%matplotlib notebook\u001b[0m\u001b[1;33m\u001b[0m\u001b[1;33m\u001b[0m\u001b[1;33m\u001b[0m\u001b[0m\n",
      "\u001b[1;32m<frozen zipimport>\u001b[0m in \u001b[0;36mload_module\u001b[1;34m(self, fullname)\u001b[0m\n",
      "\u001b[1;32mc:\\users\\tamils\\anaconda3\\envs\\edasql\\lib\\site-packages\\edasql-0.0.1-py3.8.egg\\edaSQL.py\u001b[0m in \u001b[0;36m<module>\u001b[1;34m\u001b[0m\n\u001b[0;32m      5\u001b[0m \u001b[1;32mfrom\u001b[0m \u001b[0mmatplotlib\u001b[0m \u001b[1;32mimport\u001b[0m \u001b[0mpyplot\u001b[0m \u001b[1;32mas\u001b[0m \u001b[0mplt\u001b[0m\u001b[1;33m\u001b[0m\u001b[1;33m\u001b[0m\u001b[0m\n\u001b[0;32m      6\u001b[0m \u001b[1;32mimport\u001b[0m \u001b[0mmissingno\u001b[0m\u001b[1;33m\u001b[0m\u001b[1;33m\u001b[0m\u001b[0m\n\u001b[1;32m----> 7\u001b[1;33m \u001b[1;32mimport\u001b[0m \u001b[0minsights\u001b[0m\u001b[1;33m\u001b[0m\u001b[1;33m\u001b[0m\u001b[0m\n\u001b[0m\u001b[0;32m      8\u001b[0m \u001b[1;32mimport\u001b[0m \u001b[0mwarnings\u001b[0m\u001b[1;33m\u001b[0m\u001b[1;33m\u001b[0m\u001b[0m\n\u001b[0;32m      9\u001b[0m \u001b[1;33m\u001b[0m\u001b[0m\n",
      "\u001b[1;31mModuleNotFoundError\u001b[0m: No module named 'insights'"
     ]
    }
   ],
   "source": [
    "import edaSQL\n",
    "import pandas as pd\n",
    "import numpy as np\n",
    "#%matplotlib notebook \n"
   ]
  },
  {
   "cell_type": "markdown",
   "id": "342b6675",
   "metadata": {},
   "source": [
    "<br>"
   ]
  },
  {
   "cell_type": "markdown",
   "id": "7842ea58",
   "metadata": {},
   "source": [
    "# 1. Connect to the DataBase"
   ]
  },
  {
   "cell_type": "code",
   "execution_count": null,
   "id": "368f6847",
   "metadata": {
    "scrolled": false
   },
   "outputs": [],
   "source": [
    "edasql = edaSQL.SQL(printAll=True)\n",
    "edasql.connectToDataBase(server='LAPTOP-Q7G2RLEF', database='edaSQL', user='tamil', password='tt')\n"
   ]
  },
  {
   "cell_type": "markdown",
   "id": "01de9094",
   "metadata": {},
   "source": [
    "<br>"
   ]
  },
  {
   "cell_type": "markdown",
   "id": "e88ce7d1",
   "metadata": {},
   "source": [
    "# 2. Query Data "
   ]
  },
  {
   "cell_type": "code",
   "execution_count": null,
   "id": "01676089",
   "metadata": {},
   "outputs": [],
   "source": [
    "data = pd.read_sql(\"select  * from INX\", edasql.dbConnection)"
   ]
  },
  {
   "cell_type": "code",
   "execution_count": null,
   "id": "f490c4f8",
   "metadata": {
    "scrolled": false
   },
   "outputs": [],
   "source": [
    "display(data.head())"
   ]
  },
  {
   "cell_type": "markdown",
   "id": "199c1796",
   "metadata": {},
   "source": [
    "<br>"
   ]
  },
  {
   "cell_type": "markdown",
   "id": "34836e46",
   "metadata": {},
   "source": [
    "# 3. Data Overview"
   ]
  },
  {
   "cell_type": "code",
   "execution_count": null,
   "id": "140fa6b0",
   "metadata": {},
   "outputs": [],
   "source": [
    "insights =  edaSQL.EDA(dataFrame=data,HTMLDisplay=True)"
   ]
  },
  {
   "cell_type": "code",
   "execution_count": null,
   "id": "b5ac7e4d",
   "metadata": {},
   "outputs": [],
   "source": [
    "dataInsights =insights.dataInsights()\n",
    "# print(dataInsights)"
   ]
  },
  {
   "cell_type": "code",
   "execution_count": null,
   "id": "311bd16d",
   "metadata": {
    "scrolled": false
   },
   "outputs": [],
   "source": [
    "deepInsights = insights.deepInsights()"
   ]
  },
  {
   "cell_type": "markdown",
   "id": "bc8c9bd9",
   "metadata": {},
   "source": [
    "<br>"
   ]
  },
  {
   "cell_type": "markdown",
   "id": "c4e09807",
   "metadata": {},
   "source": [
    "# 4.Correlation"
   ]
  },
  {
   "cell_type": "code",
   "execution_count": null,
   "id": "7526aa90",
   "metadata": {},
   "outputs": [],
   "source": [
    "eda = edaSQL.EDA(dataFrame=data)"
   ]
  },
  {
   "cell_type": "markdown",
   "id": "a20ea377",
   "metadata": {},
   "source": [
    "## 4.1 Pearson Correlation"
   ]
  },
  {
   "cell_type": "code",
   "execution_count": null,
   "id": "8a4e29e3",
   "metadata": {},
   "outputs": [],
   "source": [
    "eda.pearsonCorrelation()"
   ]
  },
  {
   "cell_type": "markdown",
   "id": "93fe3213",
   "metadata": {},
   "source": [
    "## 4.2 Spearman Correlation"
   ]
  },
  {
   "cell_type": "code",
   "execution_count": null,
   "id": "1c17720f",
   "metadata": {},
   "outputs": [],
   "source": [
    "eda.spearmanCorrelation()"
   ]
  },
  {
   "cell_type": "markdown",
   "id": "65409fee",
   "metadata": {},
   "source": [
    "## 4.3 Kendall Correlation"
   ]
  },
  {
   "cell_type": "code",
   "execution_count": null,
   "id": "4037bf7b",
   "metadata": {},
   "outputs": [],
   "source": [
    "eda.kendallCorrelation()"
   ]
  },
  {
   "cell_type": "markdown",
   "id": "6deb6646",
   "metadata": {},
   "source": [
    "<br>"
   ]
  },
  {
   "cell_type": "markdown",
   "id": "46d21d8a",
   "metadata": {},
   "source": [
    "# 5. Missing Values"
   ]
  },
  {
   "cell_type": "markdown",
   "id": "55205766",
   "metadata": {},
   "source": [
    "## 5.1 Matrix Plot"
   ]
  },
  {
   "cell_type": "code",
   "execution_count": null,
   "id": "edf9ad2e",
   "metadata": {},
   "outputs": [],
   "source": [
    "eda.missingValuesPlot(plot ='matrix')"
   ]
  },
  {
   "cell_type": "markdown",
   "id": "e8e1d0b3",
   "metadata": {},
   "source": [
    "## 5.2 Count Bar Plot"
   ]
  },
  {
   "cell_type": "code",
   "execution_count": null,
   "id": "97e58073",
   "metadata": {},
   "outputs": [],
   "source": [
    "eda.missingValuesPlot(plot ='bar')"
   ]
  },
  {
   "cell_type": "markdown",
   "id": "e6175f2c",
   "metadata": {},
   "source": [
    "## 5.3 Heatmap Plot"
   ]
  },
  {
   "cell_type": "code",
   "execution_count": null,
   "id": "8026ba71",
   "metadata": {},
   "outputs": [],
   "source": [
    "eda.missingValuesPlot(plot ='heatmap')"
   ]
  },
  {
   "cell_type": "markdown",
   "id": "d827da08",
   "metadata": {},
   "source": [
    "## 5.4 Dendrogram Plot"
   ]
  },
  {
   "cell_type": "code",
   "execution_count": null,
   "id": "2461e1c1",
   "metadata": {},
   "outputs": [],
   "source": [
    "eda.missingValuesPlot(plot ='dendrogram')"
   ]
  },
  {
   "cell_type": "markdown",
   "id": "febfc343",
   "metadata": {},
   "source": [
    "<br>"
   ]
  },
  {
   "cell_type": "markdown",
   "id": "46d21d8a",
   "metadata": {},
   "source": [
    "# 6. Outliers "
   ]
  },
  {
   "cell_type": "markdown",
   "id": "50770e59",
   "metadata": {},
   "source": [
    "## 6.1 Visualization"
   ]
  },
  {
   "cell_type": "markdown",
   "id": "55205766",
   "metadata": {},
   "source": [
    "## 6.1.1 Box Plot"
   ]
  },
  {
   "cell_type": "code",
   "execution_count": null,
   "id": "edf9ad2e",
   "metadata": {},
   "outputs": [],
   "source": [
    "eda.outliersVisualization(plot = 'box')"
   ]
  },
  {
   "cell_type": "markdown",
   "id": "55205766",
   "metadata": {},
   "source": [
    "## 6.1.2 Scatter Plot"
   ]
  },
  {
   "cell_type": "code",
   "execution_count": null,
   "id": "edf9ad2e",
   "metadata": {
    "scrolled": false
   },
   "outputs": [],
   "source": [
    "eda.outliersVisualization(plot = 'scatter')"
   ]
  },
  {
   "cell_type": "markdown",
   "id": "74a25dbe",
   "metadata": {},
   "source": [
    "## 6.2 Get Outliers "
   ]
  },
  {
   "cell_type": "code",
   "execution_count": null,
   "id": "b9ef12de",
   "metadata": {
    "scrolled": false
   },
   "outputs": [],
   "source": [
    "outliers = eda.getOutliers()"
   ]
  },
  {
   "cell_type": "code",
   "execution_count": null,
   "id": "adb59a8c",
   "metadata": {},
   "outputs": [],
   "source": []
  }
 ],
 "metadata": {
  "kernelspec": {
   "display_name": "Python 3 (ipykernel)",
   "language": "python",
   "name": "python3"
  },
  "language_info": {
   "codemirror_mode": {
    "name": "ipython",
    "version": 3
   },
   "file_extension": ".py",
   "mimetype": "text/x-python",
   "name": "python",
   "nbconvert_exporter": "python",
   "pygments_lexer": "ipython3",
   "version": "3.8.12"
  }
 },
 "nbformat": 4,
 "nbformat_minor": 5
}
