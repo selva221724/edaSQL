{
 "cells": [
  {
   "cell_type": "markdown",
   "id": "ad11b57b",
   "metadata": {},
   "source": [
    "## Import Packages"
   ]
  },
  {
   "cell_type": "code",
   "execution_count": null,
   "id": "83529769",
   "metadata": {},
   "outputs": [],
   "source": [
    "import edaSQL\n",
    "import pandas as pd"
   ]
  },
  {
   "cell_type": "markdown",
   "id": "342b6675",
   "metadata": {},
   "source": [
    "<br>"
   ]
  },
  {
   "cell_type": "markdown",
   "id": "7842ea58",
   "metadata": {},
   "source": [
    "# 1. Connect to the DataBase"
   ]
  },
  {
   "cell_type": "code",
   "execution_count": null,
   "id": "368f6847",
   "metadata": {
    "scrolled": false
   },
   "outputs": [],
   "source": [
    "edasql = edaSQL.SQL(printAll=True)\n",
    "edasql.connectToDataBase(server='your server name', \n",
    "                         database='your database', \n",
    "                         user='username', \n",
    "                         password='password',\n",
    "                         sqlDriver='ODBC Driver 17 for SQL Server')\n"
   ]
  },
  {
   "cell_type": "markdown",
   "id": "01de9094",
   "metadata": {},
   "source": [
    "<br>"
   ]
  },
  {
   "cell_type": "markdown",
   "id": "e88ce7d1",
   "metadata": {},
   "source": [
    "# 2. Query Data "
   ]
  },
  {
   "cell_type": "code",
   "execution_count": null,
   "id": "01676089",
   "metadata": {},
   "outputs": [],
   "source": [
    "data = pd.read_sql(\"select  * from INX\", edasql.dbConnection)"
   ]
  },
  {
   "cell_type": "code",
   "execution_count": null,
   "id": "f490c4f8",
   "metadata": {
    "scrolled": false
   },
   "outputs": [],
   "source": [
    "display(data.head())"
   ]
  },
  {
   "cell_type": "markdown",
   "id": "199c1796",
   "metadata": {},
   "source": [
    "<br>"
   ]
  },
  {
   "cell_type": "markdown",
   "id": "34836e46",
   "metadata": {},
   "source": [
    "# 3. Data Overview"
   ]
  },
  {
   "cell_type": "code",
   "execution_count": null,
   "id": "140fa6b0",
   "metadata": {},
   "outputs": [],
   "source": [
    "ins =  edaSQL.EDA(dataFrame=data,HTMLDisplay=True)"
   ]
  },
  {
   "cell_type": "code",
   "execution_count": null,
   "id": "b5ac7e4d",
   "metadata": {},
   "outputs": [],
   "source": [
    "dataInsights =ins.dataInsights()\n",
    "# print(dataInsights)"
   ]
  },
  {
   "cell_type": "code",
   "execution_count": null,
   "id": "311bd16d",
   "metadata": {
    "scrolled": false
   },
   "outputs": [],
   "source": [
    "deepInsights = ins.deepInsights()"
   ]
  },
  {
   "cell_type": "markdown",
   "id": "bc8c9bd9",
   "metadata": {},
   "source": [
    "<br>"
   ]
  },
  {
   "cell_type": "markdown",
   "id": "c4e09807",
   "metadata": {},
   "source": [
    "# 4.Correlation"
   ]
  },
  {
   "cell_type": "code",
   "execution_count": null,
   "id": "7526aa90",
   "metadata": {},
   "outputs": [],
   "source": [
    "eda = edaSQL.EDA(dataFrame=data)"
   ]
  },
  {
   "cell_type": "markdown",
   "id": "a20ea377",
   "metadata": {},
   "source": [
    "## 4.1 Pearson Correlation"
   ]
  },
  {
   "cell_type": "code",
   "execution_count": null,
   "id": "8a4e29e3",
   "metadata": {},
   "outputs": [],
   "source": [
    "eda.pearsonCorrelation()"
   ]
  },
  {
   "cell_type": "markdown",
   "id": "93fe3213",
   "metadata": {},
   "source": [
    "## 4.2 Spearman Correlation"
   ]
  },
  {
   "cell_type": "code",
   "execution_count": null,
   "id": "1c17720f",
   "metadata": {},
   "outputs": [],
   "source": [
    "eda.spearmanCorrelation()"
   ]
  },
  {
   "cell_type": "markdown",
   "id": "65409fee",
   "metadata": {},
   "source": [
    "## 4.3 Kendall Correlation"
   ]
  },
  {
   "cell_type": "code",
   "execution_count": null,
   "id": "4037bf7b",
   "metadata": {},
   "outputs": [],
   "source": [
    "eda.kendallCorrelation()"
   ]
  },
  {
   "cell_type": "markdown",
   "id": "6deb6646",
   "metadata": {},
   "source": [
    "<br>"
   ]
  },
  {
   "cell_type": "markdown",
   "id": "46d21d8a",
   "metadata": {},
   "source": [
    "# 5. Missing Values"
   ]
  },
  {
   "cell_type": "markdown",
   "id": "55205766",
   "metadata": {},
   "source": [
    "## 5.1 Matrix Plot"
   ]
  },
  {
   "cell_type": "code",
   "execution_count": null,
   "id": "edf9ad2e",
   "metadata": {},
   "outputs": [],
   "source": [
    "eda.missingValuesPlot(plot ='matrix')"
   ]
  },
  {
   "cell_type": "markdown",
   "id": "e8e1d0b3",
   "metadata": {},
   "source": [
    "## 5.2 Count Bar Plot"
   ]
  },
  {
   "cell_type": "code",
   "execution_count": null,
   "id": "97e58073",
   "metadata": {},
   "outputs": [],
   "source": [
    "eda.missingValuesPlot(plot ='bar')"
   ]
  },
  {
   "cell_type": "markdown",
   "id": "e6175f2c",
   "metadata": {},
   "source": [
    "## 5.3 Heatmap Plot"
   ]
  },
  {
   "cell_type": "code",
   "execution_count": null,
   "id": "614e191c",
   "metadata": {},
   "outputs": [],
   "source": [
    "eda.missingValuesPlot(plot ='heatmap')"
   ]
  },
  {
   "cell_type": "markdown",
   "id": "84950b4a",
   "metadata": {},
   "source": [
    "## 5.4 Dendrogram Plot"
   ]
  },
  {
   "cell_type": "code",
   "execution_count": null,
   "id": "b746d285",
   "metadata": {},
   "outputs": [],
   "source": [
    "eda.missingValuesPlot(plot ='dendrogram')"
   ]
  },
  {
   "cell_type": "markdown",
   "id": "febfc343",
   "metadata": {},
   "source": [
    "<br>"
   ]
  },
  {
   "cell_type": "markdown",
   "id": "86e900f4",
   "metadata": {},
   "source": [
    "# 6. Outliers "
   ]
  },
  {
   "cell_type": "markdown",
   "id": "50770e59",
   "metadata": {},
   "source": [
    "## 6.1 Visualization"
   ]
  },
  {
   "cell_type": "markdown",
   "id": "759c458c",
   "metadata": {},
   "source": [
    "## 6.1.1 Box Plot"
   ]
  },
  {
   "cell_type": "code",
   "execution_count": null,
   "id": "a2df2234",
   "metadata": {},
   "outputs": [],
   "source": [
    "eda.outliersVisualization(plot = 'box')"
   ]
  },
  {
   "cell_type": "markdown",
   "id": "f8a5348c",
   "metadata": {},
   "source": [
    "## 6.1.2 Scatter Plot"
   ]
  },
  {
   "cell_type": "code",
   "execution_count": null,
   "id": "a6344961",
   "metadata": {
    "scrolled": false
   },
   "outputs": [],
   "source": [
    "eda.outliersVisualization(plot = 'scatter')"
   ]
  },
  {
   "cell_type": "markdown",
   "id": "74a25dbe",
   "metadata": {},
   "source": [
    "## 6.2 Get Outliers "
   ]
  },
  {
   "cell_type": "code",
   "execution_count": null,
   "id": "b9ef12de",
   "metadata": {
    "scrolled": false
   },
   "outputs": [],
   "source": [
    "outliers = eda.getOutliers()"
   ]
  },
  {
   "cell_type": "code",
   "execution_count": null,
   "id": "bcae93d9",
   "metadata": {},
   "outputs": [],
   "source": []
  }
 ],
 "metadata": {
  "kernelspec": {
   "display_name": "Python 3 (ipykernel)",
   "language": "python",
   "name": "python3"
  },
  "language_info": {
   "codemirror_mode": {
    "name": "ipython",
    "version": 3
   },
   "file_extension": ".py",
   "mimetype": "text/x-python",
   "name": "python",
   "nbconvert_exporter": "python",
   "pygments_lexer": "ipython3",
   "version": "3.8.12"
  }
 },
 "nbformat": 4,
 "nbformat_minor": 5
}
